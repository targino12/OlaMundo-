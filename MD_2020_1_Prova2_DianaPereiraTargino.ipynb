{
  "nbformat": 4,
  "nbformat_minor": 0,
  "metadata": {
    "kernelspec": {
      "display_name": "Python 3",
      "language": "python",
      "name": "python3"
    },
    "language_info": {
      "codemirror_mode": {
        "name": "ipython",
        "version": 3
      },
      "file_extension": ".py",
      "mimetype": "text/x-python",
      "name": "python",
      "nbconvert_exporter": "python",
      "pygments_lexer": "ipython3",
      "version": "3.7.6"
    },
    "colab": {
      "name": " MD-2020.1-Prova2-DianaPereiraTargino.ipynb",
      "provenance": [],
      "collapsed_sections": [],
      "include_colab_link": true
    }
  },
  "cells": [
    {
      "cell_type": "markdown",
      "metadata": {
        "id": "view-in-github",
        "colab_type": "text"
      },
      "source": [
        "<a href=\"https://colab.research.google.com/github/targino12/OlaMundo-/blob/master/MD_2020_1_Prova2_DianaPereiraTargino.ipynb\" target=\"_parent\"><img src=\"https://colab.research.google.com/assets/colab-badge.svg\" alt=\"Open In Colab\"/></a>"
      ]
    },
    {
      "cell_type": "markdown",
      "metadata": {
        "id": "V_dQvGKDDaN1"
      },
      "source": [
        "#MD - Avaliação 2 - Parte 2 - 19-10-2020\n",
        "\n",
        "Olá! A segunda avaliação da disciplina Mineração de Dados de 2020.1 remoto será dividida em 2 partes, 1 teórica e 1 prática. Teórica: 3 Questões, valendo 2,5 cada, total 7,5\n",
        "Prática: 1 questão, upload de um .ipynb\n",
        "\n",
        "* A parte 1 (teórica) está no questionário no SIGAA.\n",
        "* A parte 2 (prática) está na tarefa no SIGAA.\n",
        "\n",
        "Nessa segunda parte prática você deve:\n",
        "1. **Copiar** esse notebook (Arquivo -> Salvar uma cópia no Drive)\n",
        "2. **Fazer** a questão."
      ]
    },
    {
      "cell_type": "markdown",
      "metadata": {
        "id": "E-t2m8qpYsQN"
      },
      "source": [
        "##Identificação do aluno(a)\n",
        "\n",
        "**Nome completo:** Diana Pereira Targino\n",
        "\n",
        "**Matrícula:** \t2016020921"
      ]
    },
    {
      "cell_type": "markdown",
      "metadata": {
        "id": "jlHrfUJiUkse"
      },
      "source": [
        "##(2,5) Questão\n",
        "\n",
        "Escolha um estado da federação e faça 4 animações que exibam vídeos em html5 que possam ser salvos em .mp4 da progressão dos casos de COVID-19 no dataset EstadosCov19.csv que estão no repositório https://github.com/covid19br/covid19br.github.io. Cada animação deverá representar: novos casos, casos acumulados, obitos novos e obitos acumulados."
      ]
    },
    {
      "cell_type": "code",
      "metadata": {
        "id": "4pL3utamDaN3",
        "colab": {
          "base_uri": "https://localhost:8080/",
          "height": 419
        },
        "outputId": "343918f3-bbc3-4611-f55b-f273318e4e85"
      },
      "source": [
        "import pandas as pd\n",
        "import seaborn as sns\n",
        "import statistics as sts\n",
        "import matplotlib.pyplot as plt\n",
        "\n",
        "dados = pd.read_csv(\"https://raw.githubusercontent.com/covid19br/covid19br.github.io/master/dados/EstadosCov19.csv\", delimiter=\";\")\n",
        "\n",
        "display(dados)"
      ],
      "execution_count": 14,
      "outputs": [
        {
          "output_type": "display_data",
          "data": {
            "text/html": [
              "<div>\n",
              "<style scoped>\n",
              "    .dataframe tbody tr th:only-of-type {\n",
              "        vertical-align: middle;\n",
              "    }\n",
              "\n",
              "    .dataframe tbody tr th {\n",
              "        vertical-align: top;\n",
              "    }\n",
              "\n",
              "    .dataframe thead th {\n",
              "        text-align: right;\n",
              "    }\n",
              "</style>\n",
              "<table border=\"1\" class=\"dataframe\">\n",
              "  <thead>\n",
              "    <tr style=\"text-align: right;\">\n",
              "      <th></th>\n",
              "      <th>regiao,\"estado\",\"data\",\"novos.casos\",\"casos.acumulados\",\"obitos.novos\",\"obitos.acumulados\"</th>\n",
              "    </tr>\n",
              "  </thead>\n",
              "  <tbody>\n",
              "    <tr>\n",
              "      <th>0</th>\n",
              "      <td>Norte,\"RO\",2020-02-25,0,0,0,0</td>\n",
              "    </tr>\n",
              "    <tr>\n",
              "      <th>1</th>\n",
              "      <td>Norte,\"RO\",2020-02-26,0,0,0,0</td>\n",
              "    </tr>\n",
              "    <tr>\n",
              "      <th>2</th>\n",
              "      <td>Norte,\"RO\",2020-02-27,0,0,0,0</td>\n",
              "    </tr>\n",
              "    <tr>\n",
              "      <th>3</th>\n",
              "      <td>Norte,\"RO\",2020-02-28,0,0,0,0</td>\n",
              "    </tr>\n",
              "    <tr>\n",
              "      <th>4</th>\n",
              "      <td>Norte,\"RO\",2020-02-29,0,0,0,0</td>\n",
              "    </tr>\n",
              "    <tr>\n",
              "      <th>...</th>\n",
              "      <td>...</td>\n",
              "    </tr>\n",
              "    <tr>\n",
              "      <th>7339</th>\n",
              "      <td>Centro-Oeste,\"DF\",2020-11-18,495,221526,8,3845</td>\n",
              "    </tr>\n",
              "    <tr>\n",
              "      <th>7340</th>\n",
              "      <td>Centro-Oeste,\"DF\",2020-11-19,756,222282,7,3852</td>\n",
              "    </tr>\n",
              "    <tr>\n",
              "      <th>7341</th>\n",
              "      <td>Centro-Oeste,\"DF\",2020-11-20,554,222836,5,3857</td>\n",
              "    </tr>\n",
              "    <tr>\n",
              "      <th>7342</th>\n",
              "      <td>Centro-Oeste,\"DF\",2020-11-21,542,223378,5,3862</td>\n",
              "    </tr>\n",
              "    <tr>\n",
              "      <th>7343</th>\n",
              "      <td>Centro-Oeste,\"DF\",2020-11-22,280,223658,5,3867</td>\n",
              "    </tr>\n",
              "  </tbody>\n",
              "</table>\n",
              "<p>7344 rows × 1 columns</p>\n",
              "</div>"
            ],
            "text/plain": [
              "     regiao,\"estado\",\"data\",\"novos.casos\",\"casos.acumulados\",\"obitos.novos\",\"obitos.acumulados\"\n",
              "0                         Norte,\"RO\",2020-02-25,0,0,0,0                                        \n",
              "1                         Norte,\"RO\",2020-02-26,0,0,0,0                                        \n",
              "2                         Norte,\"RO\",2020-02-27,0,0,0,0                                        \n",
              "3                         Norte,\"RO\",2020-02-28,0,0,0,0                                        \n",
              "4                         Norte,\"RO\",2020-02-29,0,0,0,0                                        \n",
              "...                                                 ...                                        \n",
              "7339     Centro-Oeste,\"DF\",2020-11-18,495,221526,8,3845                                        \n",
              "7340     Centro-Oeste,\"DF\",2020-11-19,756,222282,7,3852                                        \n",
              "7341     Centro-Oeste,\"DF\",2020-11-20,554,222836,5,3857                                        \n",
              "7342     Centro-Oeste,\"DF\",2020-11-21,542,223378,5,3862                                        \n",
              "7343     Centro-Oeste,\"DF\",2020-11-22,280,223658,5,3867                                        \n",
              "\n",
              "[7344 rows x 1 columns]"
            ]
          },
          "metadata": {
            "tags": []
          }
        }
      ]
    }
  ]
}